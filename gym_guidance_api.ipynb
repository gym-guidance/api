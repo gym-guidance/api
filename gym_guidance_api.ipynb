{
  "cells": [
    {
      "cell_type": "markdown",
      "metadata": {
        "id": "view-in-github",
        "colab_type": "text"
      },
      "source": [
        "<a href=\"https://colab.research.google.com/github/gym-guidance/api/blob/main/gym_guidance_api.ipynb\" target=\"_parent\"><img src=\"https://colab.research.google.com/assets/colab-badge.svg\" alt=\"Open In Colab\"/></a>"
      ]
    },
    {
      "cell_type": "code",
      "execution_count": 3,
      "metadata": {
        "colab": {
          "base_uri": "https://localhost:8080/"
        },
        "id": "rtWj9-CxjURt",
        "outputId": "153363d5-f9f0-48d4-97af-b0d98013443e"
      },
      "outputs": [
        {
          "output_type": "stream",
          "name": "stdout",
          "text": [
            "Collecting pyngrok\n",
            "  Downloading pyngrok-7.2.3-py3-none-any.whl.metadata (8.7 kB)\n",
            "Requirement already satisfied: PyYAML>=5.1 in /usr/local/lib/python3.10/dist-packages (from pyngrok) (6.0.2)\n",
            "Downloading pyngrok-7.2.3-py3-none-any.whl (23 kB)\n",
            "Installing collected packages: pyngrok\n",
            "Successfully installed pyngrok-7.2.3\n"
          ]
        }
      ],
      "source": [
        "# !pip install flask-ngrok requests\n",
        "!pip install pyngrok"
      ]
    },
    {
      "cell_type": "code",
      "execution_count": null,
      "metadata": {
        "colab": {
          "base_uri": "https://localhost:8080/"
        },
        "id": "-Xu5f35p-4t5",
        "outputId": "8e5b3526-b002-49bd-b63f-236fc89e3a9f"
      },
      "outputs": [
        {
          "output_type": "stream",
          "name": "stdout",
          "text": []
        },
        {
          "output_type": "stream",
          "name": "stderr",
          "text": [
            "/usr/local/lib/python3.10/dist-packages/sklearn/base.py:380: InconsistentVersionWarning: Trying to unpickle estimator DecisionTreeClassifier from version 1.5.2 when using version 1.6.0. This might lead to breaking code or invalid results. Use at your own risk. For more info please refer to:\n",
            "https://scikit-learn.org/stable/model_persistence.html#security-maintainability-limitations\n",
            "  warnings.warn(\n",
            "/usr/local/lib/python3.10/dist-packages/sklearn/base.py:380: InconsistentVersionWarning: Trying to unpickle estimator RandomForestClassifier from version 1.5.2 when using version 1.6.0. This might lead to breaking code or invalid results. Use at your own risk. For more info please refer to:\n",
            "https://scikit-learn.org/stable/model_persistence.html#security-maintainability-limitations\n",
            "  warnings.warn(\n"
          ]
        },
        {
          "output_type": "stream",
          "name": "stdout",
          "text": [
            " * ngrok tunnel \"NgrokTunnel: \"https://ba87-34-125-22-116.ngrok-free.app\" -> \"http://localhost:5000\"\" -> http://127.0.0.1:5000\n",
            " * Serving Flask app '__main__'\n",
            " * Debug mode: off\n"
          ]
        },
        {
          "output_type": "stream",
          "name": "stderr",
          "text": [
            "INFO:werkzeug:\u001b[31m\u001b[1mWARNING: This is a development server. Do not use it in a production deployment. Use a production WSGI server instead.\u001b[0m\n",
            " * Running on http://127.0.0.1:5000\n",
            "INFO:werkzeug:\u001b[33mPress CTRL+C to quit\u001b[0m\n"
          ]
        }
      ],
      "source": [
        "from flask import Flask, request, jsonify\n",
        "import joblib\n",
        "import numpy as np\n",
        "from sklearn.preprocessing import StandardScaler\n",
        "import requests\n",
        "from io import BytesIO\n",
        "from pyngrok import ngrok  # Import pyngrok\n",
        "\n",
        "from pyngrok import ngrok\n",
        "\n",
        "# Replace 'your-authtoken' with the token you got from the ngrok dashboard\n",
        "ngrok.set_auth_token(\"2qPmpLlE2YB3gPtuCMA3J4nQQYq_6KRyYCFf7Vk6opsCwAV1w\")\n",
        "\n",
        "# Load scaler\n",
        "scalerurl = 'https://raw.githubusercontent.com/gym-guidance/api/main/scaler.pkl'\n",
        "\n",
        "# URL of the raw .pkl file\n",
        "url = \"https://raw.githubusercontent.com/gym-guidance/api/main/gym_prediction_model.pkl\"\n",
        "\n",
        "# Fetch the file from GitHub\n",
        "response = requests.get(url)\n",
        "response1 = requests.get(scalerurl)\n",
        "\n",
        "# Load model and scaler\n",
        "model = joblib.load(BytesIO(response.content))\n",
        "scaler = joblib.load(BytesIO(response1.content))\n",
        "\n",
        "# Initialize Flask app\n",
        "app = Flask(__name__)\n",
        "\n",
        "# Start ngrok tunnel\n",
        "public_url = ngrok.connect(5000)  # Start a public ngrok tunnel on port 5000\n",
        "print(f\" * ngrok tunnel \\\"{public_url}\\\" -> http://127.0.0.1:5000\")\n",
        "\n",
        "@app.route('/test', methods=['GET'])\n",
        "def test():\n",
        "  return \"Hello World\";\n",
        "\n",
        "# API endpoint for exercise recommendation\n",
        "@app.route('/recommendexercise', methods=['GET'])\n",
        "def recommend_exercise():\n",
        "    data = request.get_json()\n",
        "    age = data['age']\n",
        "    weight = data['weight']\n",
        "    height = data['height']\n",
        "    gender = data['gender']\n",
        "    bmi = data['bmi']\n",
        "\n",
        "    # Convert gender to a numerical value\n",
        "    gender_numeric = 0 if gender == 'male' else 1  # Assuming only 'male' or 'female'\n",
        "\n",
        "    # Preprocess the input data\n",
        "    user_data = np.array([[age, weight, height, gender_numeric, bmi]])\n",
        "\n",
        "    # Scale the input data\n",
        "    user_data_scaled = scaler.transform(user_data)\n",
        "\n",
        "    # Get the prediction\n",
        "    recommendation = model.predict(user_data_scaled)\n",
        "\n",
        "    return jsonify({\"recommended_exercise\": recommendation[0]})\n",
        "\n",
        "if __name__ == '__main__':\n",
        "    app.run()"
      ]
    }
  ],
  "metadata": {
    "colab": {
      "provenance": [],
      "authorship_tag": "ABX9TyNm1jS/SqCR1aOHp1TV954F",
      "include_colab_link": true
    },
    "kernelspec": {
      "display_name": "Python 3",
      "name": "python3"
    },
    "language_info": {
      "name": "python"
    }
  },
  "nbformat": 4,
  "nbformat_minor": 0
}